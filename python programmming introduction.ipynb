{
 "cells": [
  {
   "cell_type": "raw",
   "id": "688f8bd3",
   "metadata": {},
   "source": [
    "Father of python - GUIDO VAN ROSSUM"
   ]
  },
  {
   "cell_type": "markdown",
   "id": "d005099b",
   "metadata": {},
   "source": [
    "### Where we can use Python?"
   ]
  },
  {
   "cell_type": "markdown",
   "id": "d1a8ce88",
   "metadata": {},
   "source": [
    "1. Desktop Applications(calculator, Notepad etc)\n",
    "2. Web applications(Youtube, Dropbox, google, Instagram etc)\n",
    "3. scientific and Numaric Computing(Scipy, Numpy)\n",
    "4. Dattabase Applications (Library Management Systems, Pharmaceutical)\n",
    "5. Network Applications (Network Sniffer, Network Parameter extraction, Routing Algo's like OSPF)\n",
    "6. Developing Games (Battlefield, Sims 4, PUBG)\n",
    "7. Data Science (Pandas, Matplotlib, Seaborn, etc)\n",
    "8. Machine Learning (scikit)\n",
    "9. AI (AIMA - AI: A Modern Approach)\n",
    "10.IOT (Raspberry pi, Phillips(works great with low level code in c++))"
   ]
  },
  {
   "cell_type": "markdown",
   "id": "3a17584e",
   "metadata": {},
   "source": [
    "## Features of Python\n",
    "1. Simple and easy to learn\n",
    "2. Free and open source\n",
    "3. General Purpose and high level programming language.\n",
    "4. Platform independent\n",
    "5. Case sensitive\n",
    "6. Interpreted Language\n",
    "7. Dynamically typed\n",
    "8. Rich Library\n",
    "9. We can write concise code using python"
   ]
  },
  {
   "cell_type": "code",
   "execution_count": 1,
   "id": "41c53562",
   "metadata": {},
   "outputs": [
    {
     "name": "stdout",
     "output_type": "stream",
     "text": [
      "hello world\n"
     ]
    }
   ],
   "source": [
    "print(\"hello world\")"
   ]
  },
  {
   "cell_type": "code",
   "execution_count": 2,
   "id": "d1172fd1",
   "metadata": {},
   "outputs": [
    {
     "ename": "SyntaxError",
     "evalue": "cannot assign to literal (3469860991.py, line 1)",
     "output_type": "error",
     "traceback": [
      "\u001b[1;36m  Input \u001b[1;32mIn [2]\u001b[1;36m\u001b[0m\n\u001b[1;33m    a=10 , b=15\u001b[0m\n\u001b[1;37m      ^\u001b[0m\n\u001b[1;31mSyntaxError\u001b[0m\u001b[1;31m:\u001b[0m cannot assign to literal\n"
     ]
    }
   ],
   "source": [
    "a=10 , b=15\n",
    "print(a+b)"
   ]
  },
  {
   "cell_type": "code",
   "execution_count": 75,
   "id": "058ac445",
   "metadata": {},
   "outputs": [
    {
     "ename": "SyntaxError",
     "evalue": "cannot assign to literal (2266795981.py, line 1)",
     "output_type": "error",
     "traceback": [
      "\u001b[1;36m  Input \u001b[1;32mIn [75]\u001b[1;36m\u001b[0m\n\u001b[1;33m    a = 10, b = 20\u001b[0m\n\u001b[1;37m        ^\u001b[0m\n\u001b[1;31mSyntaxError\u001b[0m\u001b[1;31m:\u001b[0m cannot assign to literal\n"
     ]
    }
   ],
   "source": [
    "a = 10, b = 20\n",
    "print(a+b)"
   ]
  },
  {
   "cell_type": "code",
   "execution_count": 76,
   "id": "8f1465ed",
   "metadata": {},
   "outputs": [
    {
     "name": "stdout",
     "output_type": "stream",
     "text": [
      "25\n"
     ]
    }
   ],
   "source": [
    "a=10\n",
    "b=15\n",
    "print(a+b)"
   ]
  },
  {
   "cell_type": "code",
   "execution_count": 77,
   "id": "c9833835",
   "metadata": {},
   "outputs": [
    {
     "name": "stdout",
     "output_type": "stream",
     "text": [
      "25\n"
     ]
    }
   ],
   "source": [
    "a,b = 10,15\n",
    "print(a+b)"
   ]
  },
  {
   "cell_type": "markdown",
   "id": "278a336f",
   "metadata": {},
   "source": [
    "### Variable\n",
    "when you create a variable you keep some space in memory. these memory locations are then used to store values."
   ]
  },
  {
   "cell_type": "code",
   "execution_count": 78,
   "id": "2d3e5795",
   "metadata": {},
   "outputs": [],
   "source": [
    "#define a variable name \"a\" and assign value 10 to it\n",
    "a=5"
   ]
  },
  {
   "cell_type": "code",
   "execution_count": 79,
   "id": "a42291b1",
   "metadata": {},
   "outputs": [
    {
     "data": {
      "text/plain": [
       "5"
      ]
     },
     "execution_count": 79,
     "metadata": {},
     "output_type": "execute_result"
    }
   ],
   "source": [
    "# print the value of variable\n",
    "a"
   ]
  },
  {
   "cell_type": "raw",
   "id": "efd1e476",
   "metadata": {},
   "source": [
    "To view some data on the output screen python also has print function. Using print function we can control the view on the output screen.\n"
   ]
  },
  {
   "cell_type": "code",
   "execution_count": 80,
   "id": "da3ba6cd",
   "metadata": {},
   "outputs": [
    {
     "name": "stdout",
     "output_type": "stream",
     "text": [
      "5\n"
     ]
    }
   ],
   "source": [
    "print(a)"
   ]
  },
  {
   "cell_type": "markdown",
   "id": "ee5d99c3",
   "metadata": {},
   "source": [
    "### Variable Naming Rules\n",
    "**Indetifiers :**\n",
    "* Like Variables, we have to define functions, classes, etc in python. Nmaing them to differentiate one from another.\n",
    "* All these names given to these entities are known as \"Identifiers\".\n",
    "*** Rules to define Identifiers:***\n",
    "1. Allowed characters  > Alphabets(a to z ,A to Z), Digits(0 to 9), an underscore (_).\n",
    "    ex: myvariable, var_2, and print_this , etc\n",
    "2. An Identifier cannot start with a digit\n",
    "    i.e \"1variable\" is invalid, but \"variable1\" is valid\n",
    "3. Can't use reserved words for identifiers\n",
    "4. No length limt\n",
    "5. Case Sensitive\n",
    "*** Keywords : reserved words in python ***\n",
    ">\" keywords can't be used as identifiers.\""
   ]
  },
  {
   "cell_type": "code",
   "execution_count": 81,
   "id": "05b3d792",
   "metadata": {},
   "outputs": [
    {
     "name": "stdout",
     "output_type": "stream",
     "text": [
      "['False', 'None', 'True', '__peg_parser__', 'and', 'as', 'assert', 'async', 'await', 'break', 'class', 'continue', 'def', 'del', 'elif', 'else', 'except', 'finally', 'for', 'from', 'global', 'if', 'import', 'in', 'is', 'lambda', 'nonlocal', 'not', 'or', 'pass', 'raise', 'return', 'try', 'while', 'with', 'yield']\n",
      "36\n"
     ]
    }
   ],
   "source": [
    "import keyword\n",
    "print(keyword.kwlist)\n",
    "print(len(keyword.kwlist))\n",
    "    "
   ]
  },
  {
   "cell_type": "code",
   "execution_count": 82,
   "id": "5d4d2bea",
   "metadata": {},
   "outputs": [
    {
     "name": "stdout",
     "output_type": "stream",
     "text": [
      "10 25\n"
     ]
    }
   ],
   "source": [
    "# python is case sensitive so a and A are different\n",
    "a = 10\n",
    "A = 25\n",
    "print(a,A)"
   ]
  },
  {
   "cell_type": "code",
   "execution_count": 83,
   "id": "59c9adb8",
   "metadata": {},
   "outputs": [
    {
     "name": "stdout",
     "output_type": "stream",
     "text": [
      "5 10 15\n"
     ]
    }
   ],
   "source": [
    "# rules for define variable names\n",
    "# allowed\n",
    "a=5\n",
    "_a=10\n",
    "a1 = 15\n",
    "print(a,_a,a1)"
   ]
  },
  {
   "cell_type": "code",
   "execution_count": 84,
   "id": "cb79908d",
   "metadata": {},
   "outputs": [
    {
     "ename": "SyntaxError",
     "evalue": "invalid syntax (370318583.py, line 2)",
     "output_type": "error",
     "traceback": [
      "\u001b[1;36m  Input \u001b[1;32mIn [84]\u001b[1;36m\u001b[0m\n\u001b[1;33m    @a = 5\u001b[0m\n\u001b[1;37m       ^\u001b[0m\n\u001b[1;31mSyntaxError\u001b[0m\u001b[1;31m:\u001b[0m invalid syntax\n"
     ]
    }
   ],
   "source": [
    "#not allowed\n",
    "@a = 5\n",
    "print(@a)"
   ]
  },
  {
   "cell_type": "code",
   "execution_count": 85,
   "id": "81f073a0",
   "metadata": {},
   "outputs": [
    {
     "ename": "SyntaxError",
     "evalue": "invalid syntax (936120624.py, line 1)",
     "output_type": "error",
     "traceback": [
      "\u001b[1;36m  Input \u001b[1;32mIn [85]\u001b[1;36m\u001b[0m\n\u001b[1;33m    1a = 15 # we cannot start variable name with number\u001b[0m\n\u001b[1;37m     ^\u001b[0m\n\u001b[1;31mSyntaxError\u001b[0m\u001b[1;31m:\u001b[0m invalid syntax\n"
     ]
    }
   ],
   "source": [
    "1a = 15 # we cannot start variable name with number\n",
    "print(1a)"
   ]
  },
  {
   "cell_type": "markdown",
   "id": "2818745b",
   "metadata": {},
   "source": [
    "### Data Types:\n",
    "    *classification or categorization of data items\n",
    "* Although python is automatically identifys the data types i.e Dynamically typed programming, but it is important know about data types\n",
    "* basic data types in python are:\n",
    "    * Numaric - int, float, complex(Immutable)\n",
    "    * Boolean - bool(True / False)\n",
    "    * Strings - enclosed by either double or single quotes (Immutable)\n",
    "    * List - (Mutable, mostly used to store homogenous data types)\n",
    "    * Tuple - (Immutable, faster campared to List)\n",
    "    * Set - (Unordered collection of items, remove duplicates, mutable)\n",
    "    * Dictionary - (unordered collection of key-value pairs, mutable, keys are unique - values may not be unique)\n",
    "    "
   ]
  },
  {
   "cell_type": "markdown",
   "id": "b29db1c4",
   "metadata": {},
   "source": [
    "#### Numaric data types"
   ]
  },
  {
   "cell_type": "code",
   "execution_count": 86,
   "id": "74af3915",
   "metadata": {},
   "outputs": [
    {
     "name": "stdout",
     "output_type": "stream",
     "text": [
      "<class 'int'>\n",
      "<class 'float'>\n",
      "<class 'complex'>\n"
     ]
    }
   ],
   "source": [
    "a=10\n",
    "b=5.0\n",
    "c=5+0j\n",
    "print(type(a))\n",
    "print(type(b))\n",
    "print(type(c))"
   ]
  },
  {
   "cell_type": "code",
   "execution_count": 87,
   "id": "01612776",
   "metadata": {},
   "outputs": [
    {
     "name": "stdout",
     "output_type": "stream",
     "text": [
      "1.2e+34\n",
      "<class 'float'>\n"
     ]
    }
   ],
   "source": [
    "f = 1.2E34\n",
    "\n",
    "#f = 1.23e34 and f = 1.23e+34 are equivalent\n",
    "\n",
    "print(f)\n",
    "\n",
    "print(type(f))"
   ]
  },
  {
   "cell_type": "code",
   "execution_count": 88,
   "id": "847e2eff",
   "metadata": {},
   "outputs": [
    {
     "name": "stdout",
     "output_type": "stream",
     "text": [
      "(5+4j)\n",
      "(10+4j)\n"
     ]
    }
   ],
   "source": [
    "c= 5+4j\n",
    "print(c)\n",
    "print(c+5)"
   ]
  },
  {
   "cell_type": "code",
   "execution_count": 89,
   "id": "dc2b0b76",
   "metadata": {},
   "outputs": [
    {
     "name": "stdout",
     "output_type": "stream",
     "text": [
      "<class 'complex'>\n",
      "True\n",
      "5.0\n",
      "4.0\n"
     ]
    }
   ],
   "source": [
    "print(type(c))\n",
    "print(isinstance(c, complex))\n",
    "print(c.real)\n",
    "print(c.imag)"
   ]
  },
  {
   "cell_type": "code",
   "execution_count": 90,
   "id": "72c9cba4",
   "metadata": {},
   "outputs": [
    {
     "name": "stdout",
     "output_type": "stream",
     "text": [
      "<class 'bool'>\n"
     ]
    }
   ],
   "source": [
    "a = True\n",
    "print(type(a))"
   ]
  },
  {
   "cell_type": "markdown",
   "id": "39e13bb4",
   "metadata": {},
   "source": [
    "### List"
   ]
  },
  {
   "cell_type": "code",
   "execution_count": 94,
   "id": "d1179f59",
   "metadata": {},
   "outputs": [
    {
     "data": {
      "text/plain": [
       "[1, 2, 3, 4, 5, 6, 7, 8, 9]"
      ]
     },
     "execution_count": 94,
     "metadata": {},
     "output_type": "execute_result"
    }
   ],
   "source": [
    "#creating list:\n",
    "my_list=[1,2,3,4,5,6,7,8,9]\n",
    "my_list"
   ]
  },
  {
   "cell_type": "code",
   "execution_count": 96,
   "id": "a1ed4dde",
   "metadata": {},
   "outputs": [
    {
     "data": {
      "text/plain": [
       "2"
      ]
     },
     "execution_count": 96,
     "metadata": {},
     "output_type": "execute_result"
    }
   ],
   "source": [
    "#accessing elements in list\n",
    "# positive index\n",
    "my_list[1]"
   ]
  },
  {
   "cell_type": "code",
   "execution_count": 97,
   "id": "f3c8bc16",
   "metadata": {},
   "outputs": [
    {
     "data": {
      "text/plain": [
       "8"
      ]
     },
     "execution_count": 97,
     "metadata": {},
     "output_type": "execute_result"
    }
   ],
   "source": [
    "# negative index\n",
    "my_list[-2]"
   ]
  },
  {
   "cell_type": "code",
   "execution_count": 99,
   "id": "c23a4d98",
   "metadata": {},
   "outputs": [
    {
     "data": {
      "text/plain": [
       "[1, 2, 3, 4, 5, 6, 7, 8, 9]"
      ]
     },
     "execution_count": 99,
     "metadata": {},
     "output_type": "execute_result"
    }
   ],
   "source": [
    "# list slicing\n",
    "# all elements in list using single column\n",
    "my_list[:]"
   ]
  },
  {
   "cell_type": "code",
   "execution_count": 100,
   "id": "eb89ac14",
   "metadata": {},
   "outputs": [
    {
     "data": {
      "text/plain": [
       "[1, 2, 3, 4, 5, 6, 7, 8, 9]"
      ]
     },
     "execution_count": 100,
     "metadata": {},
     "output_type": "execute_result"
    }
   ],
   "source": [
    "# all elements in list using double column\n",
    "my_list[::]"
   ]
  },
  {
   "cell_type": "code",
   "execution_count": 101,
   "id": "9200379b",
   "metadata": {},
   "outputs": [
    {
     "data": {
      "text/plain": [
       "[1, 4, 7]"
      ]
     },
     "execution_count": 101,
     "metadata": {},
     "output_type": "execute_result"
    }
   ],
   "source": [
    "# after second column we define the step\n",
    "my_list[::3]"
   ]
  },
  {
   "cell_type": "code",
   "execution_count": 102,
   "id": "64484e46",
   "metadata": {},
   "outputs": [
    {
     "data": {
      "text/plain": [
       "[3, 5, 7]"
      ]
     },
     "execution_count": 102,
     "metadata": {},
     "output_type": "execute_result"
    }
   ],
   "source": [
    "# list from index 2 upto 8 with step 2\n",
    "my_list[2:8:2]"
   ]
  },
  {
   "cell_type": "code",
   "execution_count": 103,
   "id": "fd6e10a8",
   "metadata": {},
   "outputs": [
    {
     "data": {
      "text/plain": [
       "[3, 4, 5, 6, 7]"
      ]
     },
     "execution_count": 103,
     "metadata": {},
     "output_type": "execute_result"
    }
   ],
   "source": [
    "# list from index 3 to second last index\n",
    "my_list[2:-2]"
   ]
  },
  {
   "cell_type": "code",
   "execution_count": 104,
   "id": "e6abd5e9",
   "metadata": {},
   "outputs": [
    {
     "data": {
      "text/plain": [
       "[9, 8, 7, 6, 5, 4, 3, 2, 1]"
      ]
     },
     "execution_count": 104,
     "metadata": {},
     "output_type": "execute_result"
    }
   ],
   "source": [
    "# reverse the list\n",
    "my_list[::-1]"
   ]
  },
  {
   "cell_type": "code",
   "execution_count": 106,
   "id": "a9f92874",
   "metadata": {},
   "outputs": [],
   "source": [
    "#append an element in list\n",
    "my_list.append(10)"
   ]
  },
  {
   "cell_type": "code",
   "execution_count": 108,
   "id": "903bdfda",
   "metadata": {},
   "outputs": [
    {
     "data": {
      "text/plain": [
       "[1, 2, 3, 4, 5, 6, 7, 8, 9, 10]"
      ]
     },
     "execution_count": 108,
     "metadata": {},
     "output_type": "execute_result"
    }
   ],
   "source": [
    "my_list"
   ]
  },
  {
   "cell_type": "code",
   "execution_count": 109,
   "id": "50470dd4",
   "metadata": {},
   "outputs": [
    {
     "data": {
      "text/plain": [
       "[1, 2, 3, 4, 5, 6, 7, 8, 9, 10, [1, 2]]"
      ]
     },
     "execution_count": 109,
     "metadata": {},
     "output_type": "execute_result"
    }
   ],
   "source": [
    "# for append the multiple elements i. [1,2]\n",
    "my_list.append([1,2])\n",
    "my_list"
   ]
  },
  {
   "cell_type": "markdown",
   "id": "44dd9bd6",
   "metadata": {},
   "source": [
    "above list is an nested list but to append only elements without nested then use extend function."
   ]
  },
  {
   "cell_type": "code",
   "execution_count": 110,
   "id": "78438a8d",
   "metadata": {},
   "outputs": [
    {
     "data": {
      "text/plain": [
       "[1, 2, 3, 4, 5, 6, 7, 8, 9, 10, [1, 2], 2, 4, 5, 6, 8, 10]"
      ]
     },
     "execution_count": 110,
     "metadata": {},
     "output_type": "execute_result"
    }
   ],
   "source": [
    "# extend\n",
    "my_list.extend([2,4,5,6,8,10])\n",
    "my_list"
   ]
  },
  {
   "cell_type": "markdown",
   "id": "46482e15",
   "metadata": {},
   "source": [
    "search for an element in list"
   ]
  },
  {
   "cell_type": "code",
   "execution_count": 114,
   "id": "02bbb6ba",
   "metadata": {},
   "outputs": [
    {
     "data": {
      "text/plain": [
       "4"
      ]
     },
     "execution_count": 114,
     "metadata": {},
     "output_type": "execute_result"
    }
   ],
   "source": [
    "# index of an element in the list if present\n",
    "my_list.index(5)"
   ]
  },
  {
   "cell_type": "code",
   "execution_count": 115,
   "id": "77a4a603",
   "metadata": {},
   "outputs": [
    {
     "data": {
      "text/plain": [
       "10"
      ]
     },
     "execution_count": 115,
     "metadata": {},
     "output_type": "execute_result"
    }
   ],
   "source": [
    "# index for nested objects\n",
    "my_list.index([1,2])"
   ]
  },
  {
   "cell_type": "markdown",
   "id": "234f6f25",
   "metadata": {},
   "source": [
    "insert an element in the list"
   ]
  },
  {
   "cell_type": "code",
   "execution_count": 116,
   "id": "b52466c4",
   "metadata": {},
   "outputs": [
    {
     "data": {
      "text/plain": [
       "[1, 2, 3, 4, 's', 5, 6, 7, 8, 9, 10, [1, 2], 2, 4, 5, 6, 8, 10]"
      ]
     },
     "execution_count": 116,
     "metadata": {},
     "output_type": "execute_result"
    }
   ],
   "source": [
    "my_list.insert(4,\"s\") # at index 4 position we are inserting a string \"s\"\n",
    "my_list"
   ]
  },
  {
   "cell_type": "markdown",
   "id": "42cdbdf8",
   "metadata": {},
   "source": [
    "checking if an element present in the list or not\n",
    "- \"in\" or \"not in\" used for this and they called as membership operators"
   ]
  },
  {
   "cell_type": "code",
   "execution_count": 117,
   "id": "c0adea40",
   "metadata": {},
   "outputs": [
    {
     "data": {
      "text/plain": [
       "True"
      ]
     },
     "execution_count": 117,
     "metadata": {},
     "output_type": "execute_result"
    }
   ],
   "source": [
    "7 in my_list"
   ]
  },
  {
   "cell_type": "code",
   "execution_count": 118,
   "id": "2f682f16",
   "metadata": {},
   "outputs": [
    {
     "data": {
      "text/plain": [
       "False"
      ]
     },
     "execution_count": 118,
     "metadata": {},
     "output_type": "execute_result"
    }
   ],
   "source": [
    "70 in my_list"
   ]
  },
  {
   "cell_type": "code",
   "execution_count": 119,
   "id": "1754978d",
   "metadata": {},
   "outputs": [
    {
     "data": {
      "text/plain": [
       "True"
      ]
     },
     "execution_count": 119,
     "metadata": {},
     "output_type": "execute_result"
    }
   ],
   "source": [
    "70 not in my_list"
   ]
  },
  {
   "cell_type": "code",
   "execution_count": 120,
   "id": "8e775f66",
   "metadata": {},
   "outputs": [
    {
     "data": {
      "text/plain": [
       "False"
      ]
     },
     "execution_count": 120,
     "metadata": {},
     "output_type": "execute_result"
    }
   ],
   "source": [
    "[1,2] not in my_list"
   ]
  },
  {
   "cell_type": "markdown",
   "id": "cf10ce9e",
   "metadata": {},
   "source": [
    "remove an element from list"
   ]
  },
  {
   "cell_type": "code",
   "execution_count": 121,
   "id": "10ef9d81",
   "metadata": {},
   "outputs": [
    {
     "data": {
      "text/plain": [
       "[1, 2, 3, 4, 's', 5, 6, 7, 8, 9, 10, [1, 2], 2, 4, 5, 6, 8, 10]"
      ]
     },
     "execution_count": 121,
     "metadata": {},
     "output_type": "execute_result"
    }
   ],
   "source": [
    "my_list"
   ]
  },
  {
   "cell_type": "code",
   "execution_count": 122,
   "id": "f1f46674",
   "metadata": {},
   "outputs": [
    {
     "data": {
      "text/plain": [
       "[1, 3, 4, 's', 5, 6, 7, 8, 9, 10, [1, 2], 2, 4, 5, 6, 8, 10]"
      ]
     },
     "execution_count": 122,
     "metadata": {},
     "output_type": "execute_result"
    }
   ],
   "source": [
    "my_list.remove(2) # removes 2 value i. first occurence value\n",
    "my_list"
   ]
  },
  {
   "cell_type": "code",
   "execution_count": 125,
   "id": "b50ebf42",
   "metadata": {},
   "outputs": [
    {
     "data": {
      "text/plain": [
       "[1, 3, 4, 's', 6, 7, 8, 9, 10, [1, 2], 2, 4, 5, 6, 8, 10]"
      ]
     },
     "execution_count": 125,
     "metadata": {},
     "output_type": "execute_result"
    }
   ],
   "source": [
    "# delete an element using \"del\" keyword by index position\n",
    "del my_list[4]\n",
    "my_list"
   ]
  },
  {
   "cell_type": "markdown",
   "id": "28f7443d",
   "metadata": {},
   "source": [
    "iterate a list"
   ]
  },
  {
   "cell_type": "code",
   "execution_count": 126,
   "id": "c423ea9a",
   "metadata": {},
   "outputs": [
    {
     "name": "stdout",
     "output_type": "stream",
     "text": [
      "1\n",
      "3\n",
      "4\n",
      "s\n",
      "6\n",
      "7\n",
      "8\n",
      "9\n",
      "10\n",
      "[1, 2]\n",
      "2\n",
      "4\n",
      "5\n",
      "6\n",
      "8\n",
      "10\n"
     ]
    }
   ],
   "source": [
    "for element in my_list:\n",
    "    print(element)"
   ]
  },
  {
   "cell_type": "code",
   "execution_count": 127,
   "id": "0f2e5efc",
   "metadata": {},
   "outputs": [],
   "source": [
    "#pre defined method\n",
    "my_list_1 = [1,55,47,698,5647,1,25]"
   ]
  },
  {
   "cell_type": "code",
   "execution_count": 128,
   "id": "6c4cb113",
   "metadata": {},
   "outputs": [
    {
     "data": {
      "text/plain": [
       "7"
      ]
     },
     "execution_count": 128,
     "metadata": {},
     "output_type": "execute_result"
    }
   ],
   "source": [
    "len(my_list_1)"
   ]
  },
  {
   "cell_type": "code",
   "execution_count": 130,
   "id": "be91b421",
   "metadata": {},
   "outputs": [
    {
     "data": {
      "text/plain": [
       "[1, 1, 25, 47, 55, 698, 5647]"
      ]
     },
     "execution_count": 130,
     "metadata": {},
     "output_type": "execute_result"
    }
   ],
   "source": [
    "#sorting\n",
    "my_list_1.sort()\n",
    "my_list_1"
   ]
  },
  {
   "cell_type": "code",
   "execution_count": 131,
   "id": "b6ae5072",
   "metadata": {},
   "outputs": [],
   "source": [
    "#reverse\n",
    "my_list_1.reverse()"
   ]
  },
  {
   "cell_type": "code",
   "execution_count": 132,
   "id": "795eb7ab",
   "metadata": {},
   "outputs": [
    {
     "data": {
      "text/plain": [
       "[5647, 698, 55, 47, 25, 1, 1]"
      ]
     },
     "execution_count": 132,
     "metadata": {},
     "output_type": "execute_result"
    }
   ],
   "source": [
    "my_list_1"
   ]
  },
  {
   "cell_type": "code",
   "execution_count": 133,
   "id": "c37ac91e",
   "metadata": {},
   "outputs": [
    {
     "data": {
      "text/plain": [
       "[1, 4, 45, 75, 85, 105]"
      ]
     },
     "execution_count": 133,
     "metadata": {},
     "output_type": "execute_result"
    }
   ],
   "source": [
    "#another way\n",
    "list1 = [1,4,85,75,45,105]\n",
    "sorted(list1)"
   ]
  },
  {
   "cell_type": "markdown",
   "id": "c67ff2c3",
   "metadata": {},
   "source": [
    "#### nested list:\n",
    "some are all elemnets in the list are also a type of list."
   ]
  },
  {
   "cell_type": "code",
   "execution_count": 1,
   "id": "efcbd241",
   "metadata": {},
   "outputs": [],
   "source": [
    "# sample nested list\n",
    "my_list_3=[1,2,[3,4,5],['a','b','c'],'w']"
   ]
  },
  {
   "cell_type": "code",
   "execution_count": 2,
   "id": "18774ca7",
   "metadata": {},
   "outputs": [
    {
     "data": {
      "text/plain": [
       "5"
      ]
     },
     "execution_count": 2,
     "metadata": {},
     "output_type": "execute_result"
    }
   ],
   "source": [
    "len(my_list_3)"
   ]
  },
  {
   "cell_type": "code",
   "execution_count": 3,
   "id": "6d15ff8b",
   "metadata": {},
   "outputs": [
    {
     "data": {
      "text/plain": [
       "['a', 'b', 'c']"
      ]
     },
     "execution_count": 3,
     "metadata": {},
     "output_type": "execute_result"
    }
   ],
   "source": [
    "my_list_3[3]"
   ]
  },
  {
   "cell_type": "code",
   "execution_count": 4,
   "id": "2e57b0b5",
   "metadata": {},
   "outputs": [
    {
     "data": {
      "text/plain": [
       "'c'"
      ]
     },
     "execution_count": 4,
     "metadata": {},
     "output_type": "execute_result"
    }
   ],
   "source": [
    "my_list_3[3][2]"
   ]
  },
  {
   "cell_type": "markdown",
   "id": "a43cc0b8",
   "metadata": {},
   "source": [
    "#### Problem Statement: \n",
    "\n",
    "* ***🎓🎓 Analytics Vidhya conducted an assessment test to hire a Data Scientist. The candidates were evaluated on 5 different subject `A`, `B`, `C`, `D`, and `E`. 🎓🎓 The marks of 5 different subjects out of 100 are given below. Help Analytics Vidhya to find out the answers of the following question.***\n",
    "\n",
    "\n",
    "   * 🙇 Who scored the highest marks in the subject B?"
   ]
  },
  {
   "cell_type": "code",
   "execution_count": 5,
   "id": "c9c3fecb",
   "metadata": {},
   "outputs": [],
   "source": [
    "# student marks\n",
    "student_marks = [['Name',  ['A','B','C','D','E']],\n",
    "                 ['Ankit',  [41, 34, 45, 55, 63]],\n",
    "                 ['Aravind',[42, 23, 34, 44, 53]],\n",
    "                 ['Lakshay',[32, 23, 13, 54, 67]],\n",
    "                 ['Gyan',   [23, 82, 23, 63, 34]],\n",
    "                 ['Pranav', [21, 23, 25, 56, 56]]\n",
    "                ]"
   ]
  },
  {
   "cell_type": "code",
   "execution_count": 14,
   "id": "83faebef",
   "metadata": {},
   "outputs": [
    {
     "data": {
      "text/plain": [
       "34"
      ]
     },
     "execution_count": 14,
     "metadata": {},
     "output_type": "execute_result"
    }
   ],
   "source": [
    "# assign \n",
    "student_marks[1][1][1]"
   ]
  },
  {
   "cell_type": "code",
   "execution_count": 16,
   "id": "7462a0d5",
   "metadata": {},
   "outputs": [
    {
     "name": "stdout",
     "output_type": "stream",
     "text": [
      "Ankit 34\n",
      "Aravind 23\n",
      "Lakshay 23\n",
      "Gyan 82\n",
      "Pranav 23\n"
     ]
    }
   ],
   "source": [
    "for student in student_marks[1:]:\n",
    "    name = student[0]\n",
    "    marks = student[1][1]\n",
    "    print(name, marks)"
   ]
  },
  {
   "cell_type": "code",
   "execution_count": 19,
   "id": "6ad8e233",
   "metadata": {},
   "outputs": [],
   "source": [
    "# lets store the student marks of sub B in another list\n",
    "stu_marks_B = []\n",
    "for student in student_marks[1:]:\n",
    "    name = student[0]\n",
    "    marks = student[1][1]\n",
    "    stu_marks_B.append([marks,name])"
   ]
  },
  {
   "cell_type": "code",
   "execution_count": 28,
   "id": "9036dfcb",
   "metadata": {},
   "outputs": [],
   "source": [
    "stu_marks_B.sort()"
   ]
  },
  {
   "cell_type": "code",
   "execution_count": 29,
   "id": "5bcca25f",
   "metadata": {},
   "outputs": [
    {
     "data": {
      "text/plain": [
       "[[23, 'Aravind'], [23, 'Lakshay'], [23, 'Pranav'], [34, 'Ankit'], [82, 'Gyan']]"
      ]
     },
     "execution_count": 29,
     "metadata": {},
     "output_type": "execute_result"
    }
   ],
   "source": [
    "stu_marks_B"
   ]
  },
  {
   "cell_type": "code",
   "execution_count": 31,
   "id": "e670b153",
   "metadata": {},
   "outputs": [
    {
     "data": {
      "text/plain": [
       "'Gyan'"
      ]
     },
     "execution_count": 31,
     "metadata": {},
     "output_type": "execute_result"
    }
   ],
   "source": [
    "stu_marks_B[-1][-1]"
   ]
  },
  {
   "cell_type": "markdown",
   "id": "f406cce7",
   "metadata": {},
   "source": [
    "### strings"
   ]
  },
  {
   "cell_type": "code",
   "execution_count": 92,
   "id": "ed182e64",
   "metadata": {},
   "outputs": [
    {
     "name": "stdout",
     "output_type": "stream",
     "text": [
      "<class 'str'>\n",
      "3\n"
     ]
    }
   ],
   "source": [
    "c=\"sri\"\n",
    "print(type(c))\n",
    "print(len(c)) # len = no of total characters and gaps present if any"
   ]
  },
  {
   "cell_type": "code",
   "execution_count": 93,
   "id": "3fd911fc",
   "metadata": {},
   "outputs": [
    {
     "name": "stdout",
     "output_type": "stream",
     "text": [
      "<class 'str'>\n",
      "9\n"
     ]
    }
   ],
   "source": [
    "a = \"sri_kanth\"\n",
    "print(type(a))\n",
    "print(len(a))"
   ]
  },
  {
   "cell_type": "markdown",
   "id": "ae2834f4",
   "metadata": {},
   "source": [
    "### input & output"
   ]
  },
  {
   "cell_type": "code",
   "execution_count": 3,
   "id": "d333b526",
   "metadata": {},
   "outputs": [
    {
     "name": "stdout",
     "output_type": "stream",
     "text": [
      "10\n"
     ]
    }
   ],
   "source": [
    "a = int(input())# giving an integer value for variable \"a\" "
   ]
  },
  {
   "cell_type": "code",
   "execution_count": 4,
   "id": "607004f4",
   "metadata": {},
   "outputs": [
    {
     "name": "stdout",
     "output_type": "stream",
     "text": [
      "enter a value: 10\n"
     ]
    }
   ],
   "source": [
    "a = int(input(\"enter a value: \"))"
   ]
  },
  {
   "cell_type": "code",
   "execution_count": 5,
   "id": "5590c185",
   "metadata": {},
   "outputs": [
    {
     "name": "stdout",
     "output_type": "stream",
     "text": [
      "5 s\n",
      "5 s\n",
      "5 s \n"
     ]
    }
   ],
   "source": [
    "# output in different ways\n",
    "a = 5\n",
    "b = \"s\"\n",
    "print(a,b)\n",
    "print('%d %s' %(a,b)) # d-digit, s-string\n",
    "print('{0} {1} '.format(a,b))"
   ]
  },
  {
   "cell_type": "code",
   "execution_count": 6,
   "id": "cbbb0a40",
   "metadata": {},
   "outputs": [
    {
     "name": "stdout",
     "output_type": "stream",
     "text": [
      "44444444\n"
     ]
    }
   ],
   "source": [
    "print(\"4\"*8)"
   ]
  },
  {
   "cell_type": "code",
   "execution_count": 7,
   "id": "cd7eb18b",
   "metadata": {},
   "outputs": [
    {
     "name": "stdout",
     "output_type": "stream",
     "text": [
      "5,9,3\n",
      "5#9#3\n"
     ]
    }
   ],
   "source": [
    "print(5,9,3,sep=',') # sep=  > used to seperate the values by using any symbol\n",
    "print(5,9,3, sep=\"#\")"
   ]
  },
  {
   "cell_type": "code",
   "execution_count": 8,
   "id": "4e5dec3b",
   "metadata": {},
   "outputs": [
    {
     "name": "stdout",
     "output_type": "stream",
     "text": [
      "5,6,7!$"
     ]
    }
   ],
   "source": [
    "print(5,6,7,sep=\",\", end='!$')# end= > used to end the output value with any symbol"
   ]
  },
  {
   "cell_type": "code",
   "execution_count": 9,
   "id": "32054552",
   "metadata": {},
   "outputs": [
    {
     "name": "stdout",
     "output_type": "stream",
     "text": [
      "this is \n",
      " srikanth \n",
      " python progarmmer\n"
     ]
    }
   ],
   "source": [
    "# for multi line output\n",
    "print('this is \\n srikanth \\n python progarmmer')"
   ]
  },
  {
   "cell_type": "code",
   "execution_count": 10,
   "id": "f0d8aff7",
   "metadata": {},
   "outputs": [
    {
     "name": "stdout",
     "output_type": "stream",
     "text": [
      "python 'this is\n",
      "progarmming \n",
      "class' \n"
     ]
    }
   ],
   "source": [
    "print('''python 'this is\n",
    "progarmming \n",
    "class' ''')"
   ]
  },
  {
   "cell_type": "raw",
   "id": "f021a1e4",
   "metadata": {},
   "source": [
    "### Theory of operators:\n",
    "    *operators are special symbols in Python that carry out arithmetic or logical computation.\n",
    "    *the value that the operator operates on is called the \"operand\"\n",
    "*Operators avialable are:\n",
    "    1. Arthematic(+,-,*,/,%,**(exponential), //(floor division))\n",
    "        (`//` gives the quotient and `%` gives the reminder of a              division)\n",
    "    2. relational(>,>=,<,<=)\n",
    "    3. Equality(==,!=)\n",
    "    4. Logical(and,or,not)\n",
    "    5. Bitwise(&,|,~,<<,>>)\n",
    "        AND(&) - Returns 1 if both the bits are 1 else 0\n",
    "        OR(|) -  Returns 1 if either of the bit is 1 else 0\n",
    "        NOT(~) - Returns one’s complement of the number\n",
    "        XOR(^) - Returns 1 if one of the bits is 1 and the other is                  0 else returns false\n",
    "        Right shift(>>)\n",
    "        left shift(<<)\n",
    "    6. Assignment(=,+=,-=,*=,/=, etc)\n",
    "    7. Identity --> is, is not (used for address comparision)\n",
    "    8. Membership --> in, not in"
   ]
  },
  {
   "cell_type": "code",
   "execution_count": 11,
   "id": "0f4bbc0e",
   "metadata": {},
   "outputs": [
    {
     "name": "stdout",
     "output_type": "stream",
     "text": [
      "a+b 8\n",
      "a-b 2\n",
      "a*b 15\n",
      "a/b 1.6666666666666667\n",
      "a%b 2\n",
      "a**b 125\n",
      "a//b 1\n"
     ]
    }
   ],
   "source": [
    "# arthi=ematic operator\n",
    "a=5\n",
    "b=3\n",
    "print(\"a+b\",a+b)\n",
    "print(\"a-b\",a-b)\n",
    "print(\"a*b\",a*b)\n",
    "print(\"a/b\",a/b)\n",
    "print(\"a%b\",a%b)\n",
    "print(\"a**b\",a**b)\n",
    "print(\"a//b\",a//b)"
   ]
  },
  {
   "cell_type": "code",
   "execution_count": 12,
   "id": "bef51228",
   "metadata": {},
   "outputs": [
    {
     "name": "stdout",
     "output_type": "stream",
     "text": [
      "a<b False\n",
      "a<=b False\n",
      "a>b True\n",
      "a>=b True\n"
     ]
    }
   ],
   "source": [
    "#  relational operator\n",
    "a =5\n",
    "b =3\n",
    "print(\"a<b\", a<b)\n",
    "print(\"a<=b\", a<=b)\n",
    "print(\"a>b\", a>b)\n",
    "print(\"a>=b\", a>=b)"
   ]
  },
  {
   "cell_type": "code",
   "execution_count": 13,
   "id": "26499d51",
   "metadata": {},
   "outputs": [
    {
     "name": "stdout",
     "output_type": "stream",
     "text": [
      "a==b False\n",
      "a!=b True\n"
     ]
    }
   ],
   "source": [
    "# Equality Opereator\n",
    "a=5\n",
    "b=3\n",
    "print(\"a==b\", a==b)\n",
    "print(\"a!=b\", a!=b)"
   ]
  },
  {
   "cell_type": "code",
   "execution_count": 14,
   "id": "f69fe4de",
   "metadata": {},
   "outputs": [
    {
     "name": "stdout",
     "output_type": "stream",
     "text": [
      "True\n",
      "False\n",
      "False\n"
     ]
    }
   ],
   "source": [
    "#logical Operator\n",
    "print((1==1) and(2==2))\n",
    "print((1==1 and 3==4))\n",
    "print(1==2 and 3==4)"
   ]
  },
  {
   "cell_type": "code",
   "execution_count": 15,
   "id": "12e53cbe",
   "metadata": {},
   "outputs": [
    {
     "name": "stdout",
     "output_type": "stream",
     "text": [
      "True\n",
      "True\n",
      "False\n"
     ]
    }
   ],
   "source": [
    "# or\n",
    "print(1==1 or 2==2)\n",
    "print((1==1 or 3==4))\n",
    "print(1==2 or 3==4)"
   ]
  },
  {
   "cell_type": "code",
   "execution_count": 16,
   "id": "f581a614",
   "metadata": {},
   "outputs": [
    {
     "name": "stdout",
     "output_type": "stream",
     "text": [
      "True\n",
      "False\n"
     ]
    }
   ],
   "source": [
    "# not\n",
    "print(2!=3)\n",
    "print(4!=4)"
   ]
  },
  {
   "cell_type": "markdown",
   "id": "2e715575",
   "metadata": {},
   "source": [
    "### Intendation and comments in python:"
   ]
  },
  {
   "cell_type": "markdown",
   "id": "1bdc6de9",
   "metadata": {},
   "source": [
    "Indentation:\n",
    "    indentation means (sapces and tabs) that are used at the begining of any statement. The statement with the same indentation belong to the same group also called as suite."
   ]
  },
  {
   "cell_type": "code",
   "execution_count": 17,
   "id": "15682856",
   "metadata": {},
   "outputs": [
    {
     "ename": "IndentationError",
     "evalue": "expected an indented block (4202960932.py, line 2)",
     "output_type": "error",
     "traceback": [
      "\u001b[1;36m  Input \u001b[1;32mIn [17]\u001b[1;36m\u001b[0m\n\u001b[1;33m    print(\"true statement\")\u001b[0m\n\u001b[1;37m    ^\u001b[0m\n\u001b[1;31mIndentationError\u001b[0m\u001b[1;31m:\u001b[0m expected an indented block\n"
     ]
    }
   ],
   "source": [
    "if (4==4):\n",
    "print(\"true statement\")"
   ]
  },
  {
   "cell_type": "markdown",
   "id": "2c2135fb",
   "metadata": {},
   "source": [
    "The above code snippet contains the `if` statement which expects to perform some lines of code if the condition is true. So, all of that code should belong to a group which python finds out by `indented` block of code."
   ]
  },
  {
   "cell_type": "code",
   "execution_count": 18,
   "id": "6c12559e",
   "metadata": {},
   "outputs": [
    {
     "name": "stdout",
     "output_type": "stream",
     "text": [
      "true statement\n"
     ]
    }
   ],
   "source": [
    "if (4==4):\n",
    "    print(\"true statement\")"
   ]
  },
  {
   "cell_type": "markdown",
   "id": "b8460eca",
   "metadata": {},
   "source": [
    "### comments\n",
    "to write a comment in python, simply put # before your desired comment"
   ]
  },
  {
   "cell_type": "code",
   "execution_count": 19,
   "id": "af2ebb2d",
   "metadata": {},
   "outputs": [
    {
     "name": "stdout",
     "output_type": "stream",
     "text": [
      "True\n"
     ]
    }
   ],
   "source": [
    "print(2==2)\n",
    "#print(2==2) this line do nothing\n"
   ]
  },
  {
   "cell_type": "markdown",
   "id": "a3b0ab00",
   "metadata": {},
   "source": [
    "### Conditional Statements\n",
    "conditional operartors\n",
    "* ***Double Equals:*** a==b\n",
    "\n",
    "* ***Double Equals:*** a == b\n",
    "* ***Not Equals:*** a != b\n",
    "* ***Less than:*** a < b\n",
    "* ***Less than or equal to:*** a <= b\n",
    "* ***Greater than:*** a > b\n",
    "* ***Greater than or equal to:*** a >= b\n"
   ]
  },
  {
   "cell_type": "code",
   "execution_count": 20,
   "id": "ec3cc5ae",
   "metadata": {},
   "outputs": [
    {
     "name": "stdout",
     "output_type": "stream",
     "text": [
      "the condition in the if statement is true\n"
     ]
    }
   ],
   "source": [
    "# if statement\n",
    "a=1\n",
    "if a==1:\n",
    "    print(\"the condition in the if statement is true\")"
   ]
  },
  {
   "cell_type": "code",
   "execution_count": 21,
   "id": "a8adfa76",
   "metadata": {},
   "outputs": [
    {
     "ename": "SyntaxError",
     "evalue": "unexpected EOF while parsing (782203147.py, line 3)",
     "output_type": "error",
     "traceback": [
      "\u001b[1;36m  Input \u001b[1;32mIn [21]\u001b[1;36m\u001b[0m\n\u001b[1;33m    print((\"the condition in the if statement is true\")\u001b[0m\n\u001b[1;37m                                                       ^\u001b[0m\n\u001b[1;31mSyntaxError\u001b[0m\u001b[1;31m:\u001b[0m unexpected EOF while parsing\n"
     ]
    }
   ],
   "source": [
    "# but , the if condition ids false then\n",
    "if (a == 3):\n",
    "    print((\"the condition in the if statement is true\")"
   ]
  },
  {
   "cell_type": "code",
   "execution_count": 22,
   "id": "8af362d4",
   "metadata": {},
   "outputs": [
    {
     "name": "stdout",
     "output_type": "stream",
     "text": [
      "a is smaller than b\n"
     ]
    }
   ],
   "source": [
    "# if statement with one condition \n",
    "a=3\n",
    "b=4\n",
    "if(a>b):\n",
    "    print(\" a is greater than b\")\n",
    "else:\n",
    "    print(\"a is smaller than b\")"
   ]
  },
  {
   "cell_type": "code",
   "execution_count": 23,
   "id": "8bfb410a",
   "metadata": {},
   "outputs": [
    {
     "name": "stdout",
     "output_type": "stream",
     "text": [
      "both # are less than 5\n"
     ]
    }
   ],
   "source": [
    "# if statement with multiple condition:\n",
    "a=3\n",
    "b=4\n",
    "if ((a<4) and (b<4)):\n",
    "    print(\"both # are less than 4\")\n",
    "elif ((a<5) and (b<5)):\n",
    "    print(\"both # are less than 5\")\n",
    "else:\n",
    "    print(\"conditions are not satisfied\")"
   ]
  },
  {
   "cell_type": "markdown",
   "id": "af62d4ef",
   "metadata": {},
   "source": [
    "Problem 1: even numbers"
   ]
  },
  {
   "cell_type": "code",
   "execution_count": 30,
   "id": "5fb25274",
   "metadata": {},
   "outputs": [
    {
     "name": "stdout",
     "output_type": "stream",
     "text": [
      "15\n",
      "odd\n"
     ]
    }
   ],
   "source": [
    "# input\n",
    "\n",
    "# by default the type is string , so we need to convert the type first\n",
    "x = int(input())\n",
    "\n",
    "if x%2 == 0:\n",
    "    print(\"even\")\n",
    "else:\n",
    "    print(\"odd\")"
   ]
  },
  {
   "cell_type": "markdown",
   "id": "ad7965e6",
   "metadata": {},
   "source": [
    "problem 2: grade i.e >90 - grade A, <90 and >60 - Grade B . otherwise \"Grade F\""
   ]
  },
  {
   "cell_type": "code",
   "execution_count": 31,
   "id": "1e741c26",
   "metadata": {},
   "outputs": [
    {
     "name": "stdout",
     "output_type": "stream",
     "text": [
      " enter marks : 65\n",
      " Grade B\n"
     ]
    }
   ],
   "source": [
    "# input and convert into integer\n",
    "x = int(input(\" enter marks : \"))\n",
    "if(x>90):\n",
    "    print(\"Grade A\")\n",
    "elif(x<90 and x>60):\n",
    "    print(\" Grade B\")\n",
    "else:\n",
    "    print(\"Grade F\")"
   ]
  },
  {
   "cell_type": "markdown",
   "id": "145bc574",
   "metadata": {},
   "source": [
    "## Looping Constructs"
   ]
  },
  {
   "cell_type": "markdown",
   "id": "550ff603",
   "metadata": {},
   "source": [
    "FOR LOOP AND RANGE FUNCTIONS:\n",
    "    we use for loop when we want to run a block of code certain number of times."
   ]
  },
  {
   "cell_type": "markdown",
   "id": "6492fef4",
   "metadata": {},
   "source": [
    "### passing one argumet:\n",
    "when we pass only one argument( considered as \"end_point\") in the range function. i.e loop start with 0 and runs till \"end_point-1\" ."
   ]
  },
  {
   "cell_type": "code",
   "execution_count": 32,
   "id": "1be66fa9",
   "metadata": {},
   "outputs": [
    {
     "name": "stdout",
     "output_type": "stream",
     "text": [
      "0\n",
      "1\n",
      "2\n",
      "3\n",
      "4\n"
     ]
    }
   ],
   "source": [
    "for i in range(5):\n",
    "    print(i)"
   ]
  },
  {
   "cell_type": "markdown",
   "id": "1fb2a6ed",
   "metadata": {},
   "source": [
    "### passing TWO arguments\n",
    "    when we pass TWO arguments (first one considered as \"START_POINT\" and second one as \"END_POINT\"). The loop start with \"START_POINT\" and runs untill \"END_POINT-1\""
   ]
  },
  {
   "cell_type": "code",
   "execution_count": 33,
   "id": "0ff31f11",
   "metadata": {},
   "outputs": [
    {
     "name": "stdout",
     "output_type": "stream",
     "text": [
      "2\n",
      "3\n",
      "4\n",
      "5\n"
     ]
    }
   ],
   "source": [
    "for i in range(2,6):\n",
    "    print(i)"
   ]
  },
  {
   "cell_type": "markdown",
   "id": "a5c8c68d",
   "metadata": {},
   "source": [
    "### passing three arguments:\n",
    "    when we pass three arguments (!st - START_POINT, 2nd - \"END_POINT\", and last one is \"STEP\")"
   ]
  },
  {
   "cell_type": "code",
   "execution_count": 34,
   "id": "ebedb2b5",
   "metadata": {},
   "outputs": [
    {
     "name": "stdout",
     "output_type": "stream",
     "text": [
      "2 4 6 8 10 "
     ]
    }
   ],
   "source": [
    "for i in range(2,12,2):\n",
    "        print(i, end=\" \")"
   ]
  },
  {
   "cell_type": "markdown",
   "id": "c016700a",
   "metadata": {},
   "source": [
    "#### Iteration:\n",
    "Iterate a string using FOR loop"
   ]
  },
  {
   "cell_type": "code",
   "execution_count": 35,
   "id": "1c24d936",
   "metadata": {},
   "outputs": [
    {
     "name": "stdout",
     "output_type": "stream",
     "text": [
      "s\n",
      "o\n",
      "l\n",
      "a\n",
      "n\n",
      "k\n",
      "i\n"
     ]
    }
   ],
   "source": [
    "for character in (\"solanki\"):\n",
    "    print(character)"
   ]
  },
  {
   "cell_type": "markdown",
   "id": "f5414048",
   "metadata": {},
   "source": [
    "#### NESTED FOR loop:\n",
    "    NESTED FOR loop is a loop within a loop. i.e for each step  in outer loop, the inner loop excutes completely."
   ]
  },
  {
   "cell_type": "code",
   "execution_count": 36,
   "id": "0119c1e2",
   "metadata": {},
   "outputs": [
    {
     "name": "stdout",
     "output_type": "stream",
     "text": [
      "1 A\n",
      "1 B\n",
      "1 C\n",
      "2 A\n",
      "2 B\n",
      "2 C\n"
     ]
    }
   ],
   "source": [
    "# define the range of outer loop\n",
    "for outer_loop_number in range(1, 3):\n",
    "    \n",
    "    # define the inner loop\n",
    "    for inner_loop_character in \"ABC\":\n",
    "        \n",
    "        print(outer_loop_number, inner_loop_character)"
   ]
  },
  {
   "cell_type": "markdown",
   "id": "2cdbe29d",
   "metadata": {},
   "source": [
    "##### WHILE LOOP\n",
    "        the code in a WHILE cluase will be excuted as long as the while statement's condition is TRUE."
   ]
  },
  {
   "cell_type": "code",
   "execution_count": 37,
   "id": "8d807741",
   "metadata": {},
   "outputs": [
    {
     "name": "stdout",
     "output_type": "stream",
     "text": [
      "0\n",
      "1\n",
      "2\n",
      "3\n",
      "4\n",
      "5\n",
      "6\n",
      "7\n"
     ]
    }
   ],
   "source": [
    "#incrementataion of a number using while loop upto the given conditin(i.e number)\n",
    "\n",
    "num= 0\n",
    "while(num<8):\n",
    "    print(num, end=\"\\n\")\n",
    "    num +=1  # we can write as number = number+1"
   ]
  },
  {
   "cell_type": "code",
   "execution_count": 59,
   "id": "2bd9fce6",
   "metadata": {},
   "outputs": [
    {
     "name": "stdout",
     "output_type": "stream",
     "text": [
      "0\n",
      "2\n",
      "4\n",
      "6\n"
     ]
    }
   ],
   "source": [
    "num= 0\n",
    "while(num<8):\n",
    "    print(num, end=\"\\n\")\n",
    "    num = num + 2  "
   ]
  },
  {
   "cell_type": "markdown",
   "id": "6786c8b1",
   "metadata": {},
   "source": [
    "### Jump Statements in python(break, continue, and pass):\n",
    "- Using for loops and while loops in Python allow you to automate and repeat tasks in an efficient manner.\n",
    "\n",
    "- But sometimes, an external factor may influence the way your program runs. When this occurs, you may want your program to exit a loop completely, skip part of a loop before continuing, or ignore that external factor. \n",
    "- You can do these actions with break and continue statements.\n",
    "#### 1. Break Statement\n",
    "- In Python, the break statement provides you with the opportunity to exit out of a loop when an external condition is triggered. \n",
    "\n",
    "- You’ll put the break statement within the block of code under your loop statement, usually after a conditional if statement.\n",
    "\n",
    "- The break statement causes a program to break out of a loop."
   ]
  },
  {
   "cell_type": "code",
   "execution_count": 50,
   "id": "81f67ea5",
   "metadata": {},
   "outputs": [
    {
     "name": "stdout",
     "output_type": "stream",
     "text": [
      "number is 1\n",
      "number is 2\n",
      "number is 3\n",
      "number is 4\n",
      "out of loop\n"
     ]
    }
   ],
   "source": [
    "num = 0\n",
    "for num in range(1,10):\n",
    "    if num ==5:\n",
    "        break\n",
    "    print(\"number is \" +str(num))\n",
    "print(\"out of loop\")"
   ]
  },
  {
   "cell_type": "markdown",
   "id": "93d55c0a",
   "metadata": {},
   "source": [
    "#### problem: user wii enter pasword : data.\n",
    "     if password matches, it will print Welcome to the print \" welcome to the pyr=thon course\" else print \"wrong password\" and user will re-enter.\n",
    "    in the fourth trail, it will print \"one trail left!!!\""
   ]
  },
  {
   "cell_type": "code",
   "execution_count": 58,
   "id": "fe46343f",
   "metadata": {},
   "outputs": [
    {
     "name": "stdout",
     "output_type": "stream",
     "text": [
      " enter password:ss\n",
      "wrong password\n",
      " enter password:ss\n",
      "wrong password\n",
      " enter password:df\n",
      "wrong password\n",
      "one more trail is left\n",
      " enter password:data\n",
      "welcome to the python course\n"
     ]
    }
   ],
   "source": [
    "password = \"data\"\n",
    "for trail in range(1,5):\n",
    "    if trail == 4:\n",
    "        print(\"one more trail is left\")\n",
    "    pass_word = input(\" enter password:\")\n",
    "    \n",
    "    if pass_word ==password:\n",
    "        print(\"welcome to the python course\")\n",
    "        break\n",
    "    else:\n",
    "        print(\"wrong password\")"
   ]
  },
  {
   "cell_type": "markdown",
   "id": "fd609bbf",
   "metadata": {},
   "source": [
    "#### 2. Continue Statement:\n",
    "    - the continue statement gives an option to skip over the part of loop where external condition is triggered, but to go on to complete the rest of the loop.\n",
    "    That is, the current iteration of the loop will be disrupted, but the program will return to the top of the loop.\n",
    "\n",
    "    - The continue statement will be within the block of code under the loop statement, usually after a conditional if statement.\n",
    "\n",
    "    - The continue statement causes a program to skip certain factors that come up within a loop, but then continue through the rest of the loop."
   ]
  },
  {
   "cell_type": "code",
   "execution_count": 60,
   "id": "22ec9868",
   "metadata": {},
   "outputs": [
    {
     "name": "stdout",
     "output_type": "stream",
     "text": [
      "number is 1\n",
      "number is 2\n",
      "number is 3\n",
      "number is 4\n",
      "number is 6\n",
      "number is 7\n",
      "number is 8\n",
      "number is 9\n",
      "out of loop\n"
     ]
    }
   ],
   "source": [
    "# above same problem using continue statement:\n",
    "num = 0\n",
    "for num in range(1,10):\n",
    "    if num ==5:\n",
    "        continue\n",
    "    print(\"number is \" +str(num))\n",
    "print(\"out of loop\")"
   ]
  },
  {
   "cell_type": "markdown",
   "id": "a310c6fa",
   "metadata": {},
   "source": [
    "Problem Statement:\n",
    "\n",
    "- In the following example, user will enter the password which is OTP which is set to be `1232`.\n",
    "- If the OTP matches, It will ask user to provide details like ***`Enter Your Name: `*** and ***`Enter Your City\": ` *** and user will re-enter the OTP.\n",
    "- In the fourth trial, it will print ***`One Trial left!!!`***.\n",
    "\n",
    "    "
   ]
  },
  {
   "cell_type": "code",
   "execution_count": 71,
   "id": "449afc55",
   "metadata": {},
   "outputs": [
    {
     "name": "stdout",
     "output_type": "stream",
     "text": [
      "enter otp : 1252\n",
      "try again\n",
      "enter otp : \n",
      "try again\n",
      "enter otp : 1232\n",
      "enter your name: sri\n",
      "enter your city: hyd\n"
     ]
    }
   ],
   "source": [
    "otp = \"1232\"\n",
    "for trail in range(1,5):\n",
    "    if trail == 4:\n",
    "        print(\"one trail left\")\n",
    "    enter_otp = input(\"enter otp : \")\n",
    "    if enter_otp != otp:\n",
    "        print(\"try again\")\n",
    "        continue;\n",
    "    else:\n",
    "        name =input(\"enter your name: \")\n",
    "        city =input(\"enter your city: \")\n",
    "        break;"
   ]
  },
  {
   "cell_type": "markdown",
   "id": "40c4f196",
   "metadata": {},
   "source": [
    "3. Pass Statement:\n",
    "pass is null operation - when it is executed, nothing happens.\n",
    "it is place holder when a statement is required syntactically, but no code need to be executed.\n",
    "the pass statement tells the program to disregard that condition and continue to run the program as usual."
   ]
  },
  {
   "cell_type": "code",
   "execution_count": 74,
   "id": "ebf64dad",
   "metadata": {},
   "outputs": [
    {
     "name": "stdout",
     "output_type": "stream",
     "text": [
      "number 1\n",
      "number 2\n",
      "number 3\n",
      "number 4\n",
      "number 5\n",
      "number 6\n",
      "number 7\n",
      "number 8\n",
      "number 9\n",
      "out of loop\n"
     ]
    }
   ],
   "source": [
    "num=0\n",
    "for num in range(1,10):\n",
    "    if num==5:\n",
    "        pass\n",
    "    print(\"number \" +str(num))\n",
    "print(\"out of loop\")"
   ]
  },
  {
   "cell_type": "markdown",
   "id": "8ff81f4a",
   "metadata": {},
   "source": [
    "#### Data structures - Tuple \n",
    "* tuple - heterogenous(different) and list - homogenous(similar) datatypes\n",
    "* Since tuples are immutable, iterating through tuple is faster than with list. So there is a slight performance boost.\n",
    "* Tuples that contain immutable elements can be used as a key for a dictionary. With lists, this is not possible.\n",
    "* If you have data that doesn't change, implementing it as tuple will guarantee that it remains write-protected."
   ]
  },
  {
   "cell_type": "code",
   "execution_count": 7,
   "id": "82bc54ea",
   "metadata": {},
   "outputs": [],
   "source": [
    "# defining the tuple in python\n",
    "my_tuple = (\"a\",'b','c','d','e','f',1,\"f\")"
   ]
  },
  {
   "cell_type": "code",
   "execution_count": 8,
   "id": "cfe908a2",
   "metadata": {},
   "outputs": [
    {
     "data": {
      "text/plain": [
       "'f'"
      ]
     },
     "execution_count": 8,
     "metadata": {},
     "output_type": "execute_result"
    }
   ],
   "source": [
    "#Access any element\n",
    "my_tuple[5]"
   ]
  },
  {
   "cell_type": "code",
   "execution_count": 9,
   "id": "074f4e13",
   "metadata": {},
   "outputs": [
    {
     "data": {
      "text/plain": [
       "1"
      ]
     },
     "execution_count": 9,
     "metadata": {},
     "output_type": "execute_result"
    }
   ],
   "source": [
    "# accessing by using index\n",
    "my_tuple.index('b')"
   ]
  },
  {
   "cell_type": "code",
   "execution_count": 10,
   "id": "cf726def",
   "metadata": {},
   "outputs": [
    {
     "data": {
      "text/plain": [
       "2"
      ]
     },
     "execution_count": 10,
     "metadata": {},
     "output_type": "execute_result"
    }
   ],
   "source": [
    "#count of elements in tuple\n",
    "my_tuple.count(\"f\")"
   ]
  },
  {
   "cell_type": "code",
   "execution_count": 11,
   "id": "86e9e3e4",
   "metadata": {},
   "outputs": [
    {
     "name": "stdout",
     "output_type": "stream",
     "text": [
      "a\n",
      "b\n",
      "c\n",
      "d\n",
      "e\n",
      "f\n",
      "1\n",
      "f\n"
     ]
    }
   ],
   "source": [
    "# iteration through elements\n",
    "for elements in my_tuple:\n",
    "    print(elements)"
   ]
  },
  {
   "cell_type": "code",
   "execution_count": 12,
   "id": "35ca6507",
   "metadata": {},
   "outputs": [
    {
     "data": {
      "text/plain": [
       "('b', 'c')"
      ]
     },
     "execution_count": 12,
     "metadata": {},
     "output_type": "execute_result"
    }
   ],
   "source": [
    "#slicing tuple\n",
    "my_tuple[1:3]"
   ]
  },
  {
   "cell_type": "code",
   "execution_count": 13,
   "id": "b959b4f2",
   "metadata": {},
   "outputs": [
    {
     "data": {
      "text/plain": [
       "('a', 'b', 'c')"
      ]
     },
     "execution_count": 13,
     "metadata": {},
     "output_type": "execute_result"
    }
   ],
   "source": [
    "## first 5 elements\n",
    "my_tuple[:3]"
   ]
  },
  {
   "cell_type": "code",
   "execution_count": 14,
   "id": "8225ed42",
   "metadata": {},
   "outputs": [
    {
     "data": {
      "text/plain": [
       "('d', 'e')"
      ]
     },
     "execution_count": 14,
     "metadata": {},
     "output_type": "execute_result"
    }
   ],
   "source": [
    "#define start and end point to slice\n",
    "my_tuple[3:5]"
   ]
  },
  {
   "cell_type": "code",
   "execution_count": 16,
   "id": "c9434133",
   "metadata": {},
   "outputs": [
    {
     "data": {
      "text/plain": [
       "1"
      ]
     },
     "execution_count": 16,
     "metadata": {},
     "output_type": "execute_result"
    }
   ],
   "source": [
    "# count method on slice\n",
    "my_tuple[3:5].count(\"d\")"
   ]
  },
  {
   "cell_type": "code",
   "execution_count": 17,
   "id": "79783a18",
   "metadata": {},
   "outputs": [
    {
     "data": {
      "text/plain": [
       "1"
      ]
     },
     "execution_count": 17,
     "metadata": {},
     "output_type": "execute_result"
    }
   ],
   "source": [
    "#index method on slice\n",
    "my_tuple[3:6].index('e')"
   ]
  },
  {
   "cell_type": "markdown",
   "id": "45433e9c",
   "metadata": {},
   "source": [
    "Tuple are immutable :\n",
    "-we cannot edit/update or delete elements from the tuple."
   ]
  },
  {
   "cell_type": "code",
   "execution_count": 20,
   "id": "2785c367",
   "metadata": {},
   "outputs": [
    {
     "data": {
      "text/plain": [
       "('a', 'b', 'c', 'd', 'e', 'f', 1, 'f')"
      ]
     },
     "execution_count": 20,
     "metadata": {},
     "output_type": "execute_result"
    }
   ],
   "source": [
    "my_tuple"
   ]
  },
  {
   "cell_type": "code",
   "execution_count": 21,
   "id": "2c8f76df",
   "metadata": {},
   "outputs": [
    {
     "ename": "TypeError",
     "evalue": "'tuple' object does not support item assignment",
     "output_type": "error",
     "traceback": [
      "\u001b[1;31m---------------------------------------------------------------------------\u001b[0m",
      "\u001b[1;31mTypeError\u001b[0m                                 Traceback (most recent call last)",
      "Input \u001b[1;32mIn [21]\u001b[0m, in \u001b[0;36m<cell line: 1>\u001b[1;34m()\u001b[0m\n\u001b[1;32m----> 1\u001b[0m my_tuple[\u001b[38;5;241m2\u001b[39m]\u001b[38;5;241m=\u001b[39m\u001b[38;5;124m\"\u001b[39m\u001b[38;5;124md\u001b[39m\u001b[38;5;124m\"\u001b[39m\n",
      "\u001b[1;31mTypeError\u001b[0m: 'tuple' object does not support item assignment"
     ]
    }
   ],
   "source": [
    "my_tuple[2]=\"d\""
   ]
  },
  {
   "cell_type": "code",
   "execution_count": 22,
   "id": "50a1e2f9",
   "metadata": {},
   "outputs": [
    {
     "ename": "TypeError",
     "evalue": "'tuple' object doesn't support item deletion",
     "output_type": "error",
     "traceback": [
      "\u001b[1;31m---------------------------------------------------------------------------\u001b[0m",
      "\u001b[1;31mTypeError\u001b[0m                                 Traceback (most recent call last)",
      "Input \u001b[1;32mIn [22]\u001b[0m, in \u001b[0;36m<cell line: 1>\u001b[1;34m()\u001b[0m\n\u001b[1;32m----> 1\u001b[0m \u001b[38;5;28;01mdel\u001b[39;00m my_tuple[\u001b[38;5;241m0\u001b[39m]\n",
      "\u001b[1;31mTypeError\u001b[0m: 'tuple' object doesn't support item deletion"
     ]
    }
   ],
   "source": [
    "del my_tuple[0]"
   ]
  },
  {
   "cell_type": "markdown",
   "id": "f83803e1",
   "metadata": {},
   "source": [
    "### data structures - Tuple"
   ]
  },
  {
   "cell_type": "code",
   "execution_count": 23,
   "id": "d9635989",
   "metadata": {},
   "outputs": [],
   "source": [
    "# defining set in pytho\n",
    "my_set = {'a','b','c','d',1,2,4,5}"
   ]
  },
  {
   "cell_type": "code",
   "execution_count": 24,
   "id": "e1171b28",
   "metadata": {},
   "outputs": [
    {
     "data": {
      "text/plain": [
       "{1, 2, 4, 5, 'a', 'b', 'c', 'd'}"
      ]
     },
     "execution_count": 24,
     "metadata": {},
     "output_type": "execute_result"
    }
   ],
   "source": [
    "# its automatiacally reorder the given myset\n",
    "my_set"
   ]
  },
  {
   "cell_type": "code",
   "execution_count": 26,
   "id": "25fdb5e7",
   "metadata": {},
   "outputs": [],
   "source": [
    "# defining a set from a lidt and tuple:\n",
    "my_list=['a','b','c',1,8,4,5]"
   ]
  },
  {
   "cell_type": "code",
   "execution_count": 27,
   "id": "6bed8851",
   "metadata": {},
   "outputs": [
    {
     "data": {
      "text/plain": [
       "{1, 4, 5, 8, 'a', 'b', 'c'}"
      ]
     },
     "execution_count": 27,
     "metadata": {},
     "output_type": "execute_result"
    }
   ],
   "source": [
    "my_set_from_my_list = set(my_list)\n",
    "my_set_from_my_list"
   ]
  },
  {
   "cell_type": "code",
   "execution_count": 28,
   "id": "56840281",
   "metadata": {},
   "outputs": [
    {
     "data": {
      "text/plain": [
       "('a', 'b', 'c', 'd', 'e', 'f', 1, 'f')"
      ]
     },
     "execution_count": 28,
     "metadata": {},
     "output_type": "execute_result"
    }
   ],
   "source": [
    "my_tuple"
   ]
  },
  {
   "cell_type": "code",
   "execution_count": 29,
   "id": "4848074c",
   "metadata": {},
   "outputs": [
    {
     "data": {
      "text/plain": [
       "{1, 'a', 'b', 'c', 'd', 'e', 'f'}"
      ]
     },
     "execution_count": 29,
     "metadata": {},
     "output_type": "execute_result"
    }
   ],
   "source": [
    "my_set_from_my_tuple = set(my_tuple)\n",
    "my_set_from_my_tuple"
   ]
  },
  {
   "cell_type": "code",
   "execution_count": 30,
   "id": "ee7c2252",
   "metadata": {},
   "outputs": [],
   "source": [
    "#adding an element\n",
    "my_set.add(8)"
   ]
  },
  {
   "cell_type": "code",
   "execution_count": 31,
   "id": "e28c49a2",
   "metadata": {},
   "outputs": [
    {
     "data": {
      "text/plain": [
       "{1, 2, 4, 5, 8, 'a', 'b', 'c', 'd'}"
      ]
     },
     "execution_count": 31,
     "metadata": {},
     "output_type": "execute_result"
    }
   ],
   "source": [
    "my_set"
   ]
  },
  {
   "cell_type": "markdown",
   "id": "83ed1570",
   "metadata": {},
   "source": [
    "#### delete an element from the list\n",
    "*Discord - it will not throw an error , if the element you want to remove is not present in the set.                           \n",
    "*remove -  it will throw an error , if the element you want to remove is not present in the set."
   ]
  },
  {
   "cell_type": "code",
   "execution_count": 32,
   "id": "46f9015d",
   "metadata": {},
   "outputs": [
    {
     "data": {
      "text/plain": [
       "{1, 2, 4, 5, 8, 'a', 'b', 'c', 'd'}"
      ]
     },
     "execution_count": 32,
     "metadata": {},
     "output_type": "execute_result"
    }
   ],
   "source": [
    "my_set"
   ]
  },
  {
   "cell_type": "code",
   "execution_count": 33,
   "id": "6910f28f",
   "metadata": {},
   "outputs": [],
   "source": [
    "my_set.discard(\"a\")"
   ]
  },
  {
   "cell_type": "code",
   "execution_count": 34,
   "id": "384aad8c",
   "metadata": {},
   "outputs": [
    {
     "data": {
      "text/plain": [
       "{1, 2, 4, 5, 8, 'b', 'c', 'd'}"
      ]
     },
     "execution_count": 34,
     "metadata": {},
     "output_type": "execute_result"
    }
   ],
   "source": [
    "my_set"
   ]
  },
  {
   "cell_type": "code",
   "execution_count": 35,
   "id": "81f815b8",
   "metadata": {},
   "outputs": [],
   "source": [
    "my_set.discard(\"e\") # e is not present in the set"
   ]
  },
  {
   "cell_type": "code",
   "execution_count": 36,
   "id": "361bedeb",
   "metadata": {},
   "outputs": [
    {
     "ename": "KeyError",
     "evalue": "'e'",
     "output_type": "error",
     "traceback": [
      "\u001b[1;31m---------------------------------------------------------------------------\u001b[0m",
      "\u001b[1;31mKeyError\u001b[0m                                  Traceback (most recent call last)",
      "Input \u001b[1;32mIn [36]\u001b[0m, in \u001b[0;36m<cell line: 1>\u001b[1;34m()\u001b[0m\n\u001b[1;32m----> 1\u001b[0m \u001b[43mmy_set\u001b[49m\u001b[38;5;241;43m.\u001b[39;49m\u001b[43mremove\u001b[49m\u001b[43m(\u001b[49m\u001b[38;5;124;43m\"\u001b[39;49m\u001b[38;5;124;43me\u001b[39;49m\u001b[38;5;124;43m\"\u001b[39;49m\u001b[43m)\u001b[49m\n",
      "\u001b[1;31mKeyError\u001b[0m: 'e'"
     ]
    }
   ],
   "source": [
    "my_set.remove(\"e\")"
   ]
  },
  {
   "cell_type": "code",
   "execution_count": 37,
   "id": "bc3954c9",
   "metadata": {},
   "outputs": [
    {
     "data": {
      "text/plain": [
       "{1, 2, 4, 5, 8, 'b', 'c', 'd'}"
      ]
     },
     "execution_count": 37,
     "metadata": {},
     "output_type": "execute_result"
    }
   ],
   "source": [
    "# difference between two sets\n",
    "# A-B\n",
    "my_set"
   ]
  },
  {
   "cell_type": "code",
   "execution_count": 39,
   "id": "28bac03e",
   "metadata": {},
   "outputs": [],
   "source": [
    "my_set_2 = {1,2,'c'}"
   ]
  },
  {
   "cell_type": "code",
   "execution_count": 40,
   "id": "7eabc008",
   "metadata": {},
   "outputs": [
    {
     "data": {
      "text/plain": [
       "{4, 5, 8, 'b', 'd'}"
      ]
     },
     "execution_count": 40,
     "metadata": {},
     "output_type": "execute_result"
    }
   ],
   "source": [
    "# difference\n",
    "my_set.difference(my_set_2)"
   ]
  },
  {
   "cell_type": "code",
   "execution_count": 41,
   "id": "a85e07e0",
   "metadata": {},
   "outputs": [
    {
     "data": {
      "text/plain": [
       "{1, 2, 4, 5, 8, 'b', 'c', 'd'}"
      ]
     },
     "execution_count": 41,
     "metadata": {},
     "output_type": "execute_result"
    }
   ],
   "source": [
    "my_set # it wii not update the my set after "
   ]
  },
  {
   "cell_type": "code",
   "execution_count": 42,
   "id": "2667620c",
   "metadata": {},
   "outputs": [],
   "source": [
    "# to update my set \n",
    "my_set.difference_update(my_set_2)"
   ]
  },
  {
   "cell_type": "code",
   "execution_count": 43,
   "id": "998128c5",
   "metadata": {},
   "outputs": [
    {
     "data": {
      "text/plain": [
       "{4, 5, 8, 'b', 'd'}"
      ]
     },
     "execution_count": 43,
     "metadata": {},
     "output_type": "execute_result"
    }
   ],
   "source": [
    "my_set"
   ]
  },
  {
   "cell_type": "markdown",
   "id": "b6d96424",
   "metadata": {},
   "source": [
    "### Intersection of two sets"
   ]
  },
  {
   "cell_type": "code",
   "execution_count": 45,
   "id": "d8ec5b0c",
   "metadata": {},
   "outputs": [],
   "source": [
    "# Set 1\n",
    "my_set = {1, 2, 4, 'A', 'B', 'C', 'D', 'E', 'O'}\n",
    "# Set 2 \n",
    "my_set_from_list = {1,2,'A','B'}"
   ]
  },
  {
   "cell_type": "code",
   "execution_count": 46,
   "id": "40c6aee4",
   "metadata": {},
   "outputs": [
    {
     "data": {
      "text/plain": [
       "{1, 2, 'A', 'B'}"
      ]
     },
     "execution_count": 46,
     "metadata": {},
     "output_type": "execute_result"
    }
   ],
   "source": [
    "my_set.intersection(my_set_from_list)"
   ]
  },
  {
   "cell_type": "code",
   "execution_count": 47,
   "id": "02183ec5",
   "metadata": {},
   "outputs": [
    {
     "data": {
      "text/plain": [
       "{1, 2, 4, 'A', 'B', 'C', 'D', 'E', 'O'}"
      ]
     },
     "execution_count": 47,
     "metadata": {},
     "output_type": "execute_result"
    }
   ],
   "source": [
    "my_set"
   ]
  },
  {
   "cell_type": "code",
   "execution_count": 48,
   "id": "53c50839",
   "metadata": {},
   "outputs": [
    {
     "data": {
      "text/plain": [
       "{1, 2, 'A', 'B'}"
      ]
     },
     "execution_count": 48,
     "metadata": {},
     "output_type": "execute_result"
    }
   ],
   "source": [
    "# to update directly, use intersection update\n",
    "my_set.intersection_update(my_set_from_list)\n",
    "my_set"
   ]
  },
  {
   "cell_type": "markdown",
   "id": "e7970c35",
   "metadata": {},
   "source": [
    "#### Other operations on set\n",
    "\n",
    "* is_disjoint\n",
    "* is_subset\n",
    "* is_superset\n",
    "* union\n",
    "\n",
    "---"
   ]
  },
  {
   "cell_type": "code",
   "execution_count": 51,
   "id": "b4efd0fc",
   "metadata": {},
   "outputs": [],
   "source": [
    " #define 3 random sets\n",
    "sample_set_1 = {'A', 'B', 'C', 'D', 'E', 'F'}\n",
    "sample_set_2 = {'A', 'D', 'E'}\n",
    "sample_set_3 = {'S', 'T', 'U'}"
   ]
  },
  {
   "cell_type": "code",
   "execution_count": 52,
   "id": "e0363179",
   "metadata": {},
   "outputs": [
    {
     "data": {
      "text/plain": [
       "False"
      ]
     },
     "execution_count": 52,
     "metadata": {},
     "output_type": "execute_result"
    }
   ],
   "source": [
    "# check if 2 sets are disjoint sets\n",
    "sample_set_1.isdisjoint(sample_set_2)"
   ]
  },
  {
   "cell_type": "code",
   "execution_count": 53,
   "id": "ee84e10d",
   "metadata": {},
   "outputs": [
    {
     "data": {
      "text/plain": [
       "True"
      ]
     },
     "execution_count": 53,
     "metadata": {},
     "output_type": "execute_result"
    }
   ],
   "source": [
    "sample_set_1.isdisjoint(sample_set_3)"
   ]
  },
  {
   "cell_type": "code",
   "execution_count": 54,
   "id": "0f52b21b",
   "metadata": {},
   "outputs": [
    {
     "data": {
      "text/plain": [
       "True"
      ]
     },
     "execution_count": 54,
     "metadata": {},
     "output_type": "execute_result"
    }
   ],
   "source": [
    "# check if one set is subset of another set\n",
    "sample_set_2.issubset(sample_set_1)"
   ]
  },
  {
   "cell_type": "code",
   "execution_count": 55,
   "id": "24b70824",
   "metadata": {},
   "outputs": [
    {
     "data": {
      "text/plain": [
       "True"
      ]
     },
     "execution_count": 55,
     "metadata": {},
     "output_type": "execute_result"
    }
   ],
   "source": [
    "# check if one set is superset of another\n",
    "sample_set_1.issuperset(sample_set_2)"
   ]
  },
  {
   "cell_type": "code",
   "execution_count": 56,
   "id": "e4302d6f",
   "metadata": {},
   "outputs": [
    {
     "data": {
      "text/plain": [
       "{'A', 'B', 'C', 'D', 'E', 'F', 'S', 'T', 'U'}"
      ]
     },
     "execution_count": 56,
     "metadata": {},
     "output_type": "execute_result"
    }
   ],
   "source": [
    "# union of 2 sets\n",
    "sample_set_1.union(sample_set_3)"
   ]
  },
  {
   "cell_type": "code",
   "execution_count": 57,
   "id": "a7b2295c",
   "metadata": {},
   "outputs": [],
   "source": [
    "# update a set with new values, it will add the values which are not present in the original set.\n",
    "sample_set_1.update({'C', 'D', 'E', 'R', 'Z'})"
   ]
  },
  {
   "cell_type": "code",
   "execution_count": 58,
   "id": "bd243d34",
   "metadata": {},
   "outputs": [
    {
     "data": {
      "text/plain": [
       "{'A', 'B', 'C', 'D', 'E', 'F', 'R', 'Z'}"
      ]
     },
     "execution_count": 58,
     "metadata": {},
     "output_type": "execute_result"
    }
   ],
   "source": [
    "sample_set_1"
   ]
  },
  {
   "cell_type": "code",
   "execution_count": 61,
   "id": "49d5f6c6",
   "metadata": {},
   "outputs": [
    {
     "name": "stdout",
     "output_type": "stream",
     "text": [
      "B\n",
      "C\n",
      "F\n",
      "R\n",
      "Z\n",
      "D\n",
      "A\n",
      "E\n"
     ]
    }
   ],
   "source": [
    "# Iterate the set\n",
    "for element in sample_set_1:\n",
    "    print(element)"
   ]
  },
  {
   "cell_type": "code",
   "execution_count": null,
   "id": "998a1bdf",
   "metadata": {},
   "outputs": [],
   "source": []
  }
 ],
 "metadata": {
  "kernelspec": {
   "display_name": "Python 3 (ipykernel)",
   "language": "python",
   "name": "python3"
  },
  "language_info": {
   "codemirror_mode": {
    "name": "ipython",
    "version": 3
   },
   "file_extension": ".py",
   "mimetype": "text/x-python",
   "name": "python",
   "nbconvert_exporter": "python",
   "pygments_lexer": "ipython3",
   "version": "3.9.12"
  }
 },
 "nbformat": 4,
 "nbformat_minor": 5
}
